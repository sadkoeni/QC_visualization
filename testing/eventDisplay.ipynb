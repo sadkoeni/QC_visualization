{
 "cells": [
  {
   "cell_type": "markdown",
   "metadata": {},
   "source": [
    "# Magenetic monopole and spallation event+statistics display"
   ]
  },
  {
   "cell_type": "code",
   "execution_count": 1,
   "metadata": {
    "scrolled": false
   },
   "outputs": [
    {
     "name": "stdout",
     "output_type": "stream",
     "text": [
      "Welcome to JupyROOT 6.20/08\n",
      "x bokehVisJS3DGraph.ts\n",
      "x HistogramCDS.ts\n",
      "x Histo2dCDS.ts\n"
     ]
    },
    {
     "name": "stderr",
     "output_type": "stream",
     "text": [
      "Using TensorFlow backend.\n",
      "/home/stephan/alice/sw/ubuntu1804_x86-64/Python-modules/1.0-3/share/python-modules/lib/python/site-packages/tensorflow/python/framework/dtypes.py:526: FutureWarning: Passing (type, 1) or '1type' as a synonym of type is deprecated; in a future version of numpy, it will be understood as (type, (1,)) / '(1,)type'.\n",
      "  _np_qint8 = np.dtype([(\"qint8\", np.int8, 1)])\n",
      "/home/stephan/alice/sw/ubuntu1804_x86-64/Python-modules/1.0-3/share/python-modules/lib/python/site-packages/tensorflow/python/framework/dtypes.py:527: FutureWarning: Passing (type, 1) or '1type' as a synonym of type is deprecated; in a future version of numpy, it will be understood as (type, (1,)) / '(1,)type'.\n",
      "  _np_quint8 = np.dtype([(\"quint8\", np.uint8, 1)])\n",
      "/home/stephan/alice/sw/ubuntu1804_x86-64/Python-modules/1.0-3/share/python-modules/lib/python/site-packages/tensorflow/python/framework/dtypes.py:528: FutureWarning: Passing (type, 1) or '1type' as a synonym of type is deprecated; in a future version of numpy, it will be understood as (type, (1,)) / '(1,)type'.\n",
      "  _np_qint16 = np.dtype([(\"qint16\", np.int16, 1)])\n",
      "/home/stephan/alice/sw/ubuntu1804_x86-64/Python-modules/1.0-3/share/python-modules/lib/python/site-packages/tensorflow/python/framework/dtypes.py:529: FutureWarning: Passing (type, 1) or '1type' as a synonym of type is deprecated; in a future version of numpy, it will be understood as (type, (1,)) / '(1,)type'.\n",
      "  _np_quint16 = np.dtype([(\"quint16\", np.uint16, 1)])\n",
      "/home/stephan/alice/sw/ubuntu1804_x86-64/Python-modules/1.0-3/share/python-modules/lib/python/site-packages/tensorflow/python/framework/dtypes.py:530: FutureWarning: Passing (type, 1) or '1type' as a synonym of type is deprecated; in a future version of numpy, it will be understood as (type, (1,)) / '(1,)type'.\n",
      "  _np_qint32 = np.dtype([(\"qint32\", np.int32, 1)])\n",
      "/home/stephan/alice/sw/ubuntu1804_x86-64/Python-modules/1.0-3/share/python-modules/lib/python/site-packages/tensorflow/python/framework/dtypes.py:535: FutureWarning: Passing (type, 1) or '1type' as a synonym of type is deprecated; in a future version of numpy, it will be understood as (type, (1,)) / '(1,)type'.\n",
      "  np_resource = np.dtype([(\"resource\", np.ubyte, 1)])\n"
     ]
    },
    {
     "data": {
      "text/html": [
       "<style>.container { width:100% !important; }</style>"
      ],
      "text/plain": [
       "<IPython.core.display.HTML object>"
      ]
     },
     "metadata": {},
     "output_type": "display_data"
    }
   ],
   "source": [
    "from bokeh.io import output_notebook\n",
    "from RootInteractive.Tools.aliTreePlayer import *\n",
    "from RootInteractive.InteractiveDrawing.bokeh.bokehDrawSA import *\n",
    "from RootInteractive.Tools.aliTreePlayer import *\n",
    "from bokeh.io import curdoc\n",
    "import numpy as np\n",
    "import os\n",
    "import sys\n",
    "from ROOT import TFile, gSystem\n",
    "from RootInteractive.InteractiveDrawing.bokeh.bokehDrawSA import *\n",
    "from RootInteractive.MLpipeline.NDFunctionInterface import  *\n",
    "import plotly.express as px\n",
    "#output_notebook()\n",
    "from IPython.display import Image\n",
    "from IPython.core.display import display, HTML\n",
    "display(HTML(\"<style>.container { width:100% !important; }</style>\"))\n",
    "import matplotlib.pyplot as plt\n",
    "from bokeh.transform import factor_cmap, factor_mark\n",
    "\n",
    "from scipy.stats import norm\n",
    "import matplotlib.mlab as mlab\n",
    "import scipy.stats as stats\n",
    "import math\n",
    "from RootInteractive.Tools.compressArray import *\n",
    "from pprint import pprint"
   ]
  },
  {
   "cell_type": "code",
   "execution_count": 2,
   "metadata": {},
   "outputs": [
    {
     "name": "stdout",
     "output_type": "stream",
     "text": [
      "CPU times: user 807 ms, sys: 184 ms, total: 991 ms\n",
      "Wall time: 1 s\n"
     ]
    },
    {
     "name": "stderr",
     "output_type": "stream",
     "text": [
      "Warning in <TClassTable::Add>: class ROOT::VecOps::RVec<float> already in TClassTable\n",
      "Info in <AliDrawStyle::ApplyStyle>: figTemplate\n"
     ]
    }
   ],
   "source": [
    "%%time\n",
    "ROOT.gROOT.LoadMacro(\"/home/stephan/QC/alice-tpc-notes/JIRA/ATO-432/code/monoAnalysis.C+g\")\n",
    "ROOT.AliDrawStyle.SetDefaults()\n",
    "ROOT.AliDrawStyle.ApplyStyle(\"figTemplate\")\n",
    "c=ROOT.TCanvas()\n",
    "ROOT.gStyle.SetOptStat(0)"
   ]
  },
  {
   "cell_type": "markdown",
   "metadata": {},
   "source": [
    "## Define data compression precission\n",
    "* 12 bits for position (g.*|r.*)\"\n",
    "* 7 bits for everithing"
   ]
  },
  {
   "cell_type": "code",
   "execution_count": 3,
   "metadata": {},
   "outputs": [],
   "source": [
    "arrayCompressionRelativeDisplay=[(\"(g.*|r.*)\",[(\"relative\",12), (\"code\",0), (\"zip\",0), (\"base64\",0)]), (\".*\",[(\"relative\",7), (\"code\",0), (\"zip\",0), (\"base64\",0)])]"
   ]
  },
  {
   "cell_type": "code",
   "execution_count": 4,
   "metadata": {},
   "outputs": [],
   "source": [
    "#ROOT.loadSeeds()"
   ]
  },
  {
   "cell_type": "code",
   "execution_count": 5,
   "metadata": {},
   "outputs": [
    {
     "data": {
      "text/plain": [
       "'ROOT.treeSeeds1.SetAlias(\"sector\",\"seed.fSeedIter1.fData.fDetector%36\")\\nROOT.treeSeeds1.SetAlias(\"phiSeed\",\"seed.fSeedIter1.fData.fY\")\\nROOT.treeSeeds1.SetAlias(\"seed1Tot\",\"seed.fSeedIter1Tot.fData\")\\nROOT.treeSeeds1.GetListOfAliases().ls()\\npprint(ROOT.treeSeeds1.GetEntries())'"
      ]
     },
     "execution_count": 5,
     "metadata": {},
     "output_type": "execute_result"
    }
   ],
   "source": [
    "\"\"\"ROOT.treeSeeds1.SetAlias(\"sector\",\"seed.fSeedIter1.fData.fDetector%36\")\n",
    "ROOT.treeSeeds1.SetAlias(\"phiSeed\",\"seed.fSeedIter1.fData.fY\")\n",
    "ROOT.treeSeeds1.SetAlias(\"seed1Tot\",\"seed.fSeedIter1Tot.fData\")\n",
    "ROOT.treeSeeds1.GetListOfAliases().ls()\n",
    "pprint(ROOT.treeSeeds1.GetEntries())\"\"\""
   ]
  },
  {
   "cell_type": "code",
   "execution_count": 21,
   "metadata": {},
   "outputs": [],
   "source": [
    "def SpoofDF():\n",
    "    columns = [\"gxSeed\",\"gySeed\",\"chi2N\",'fQMeanSeed1',\"fQMedianSeed1\", \"gzSeed\",\"rSeed\",\"eventID\",\"qSeed\",\"sector\",\"phiSeed\",\"seed1Tot\"]\n",
    "    def GetValue(c, j):\n",
    "        if c==\"eventID\":\n",
    "            return j\n",
    "        else:\n",
    "            return np.random.randint(20)+1\n",
    "    arr = np.array([[GetValue(columns[j], i) for j in range(len(columns))] for i in range(100000)])\n",
    "    arr = np.ascontiguousarray(arr)\n",
    "    df = pd.DataFrame(arr, columns=columns)\n",
    "    return df\n",
    "arrayCompressionRelative16=[(\".*\",[(\"relative\",16), (\"code\",0), (\"zip\",0), (\"base64\",0)])]  "
   ]
  },
  {
   "cell_type": "code",
   "execution_count": 23,
   "metadata": {},
   "outputs": [
    {
     "name": "stdout",
     "output_type": "stream",
     "text": [
      "False\n"
     ]
    }
   ],
   "source": [
    "#%%time\n",
    "dfSelection=\"fQMeanSeed1>200\"\n",
    "dfTrack=SpoofDF()#tree2Panda(ROOT.treeSeeds1,[\"gxSeed\",\"gySeed\",\"chi2N\",'fQMeanSeed1',\"fQMedianSeed1\", \"gzSeed\",\"rSeed\",\"eventID\",\"qSeed\",\"sector\",\"phiSeed\",\"seed1Tot\"],dfSelection,exclude=[\".*XXX\"],columnMask=[[\"Dist_meanG\",\"\"]], nEntries=100000)\n",
    "dfTrack[\"fQSeed1Ratio\"]=dfTrack[\"fQMeanSeed1\"]/dfTrack[\"fQMedianSeed1\"]\n",
    "dfTrack[\"fQRatio\"]=dfTrack[\"qSeed\"]/dfTrack[\"fQMedianSeed1\"]\n",
    "print(dfTrack.isnull().values.any())"
   ]
  },
  {
   "cell_type": "code",
   "execution_count": 8,
   "metadata": {},
   "outputs": [
    {
     "name": "stdout",
     "output_type": "stream",
     "text": [
      "(100000, 14)\n"
     ]
    },
    {
     "data": {
      "text/html": [
       "<div>\n",
       "<style scoped>\n",
       "    .dataframe tbody tr th:only-of-type {\n",
       "        vertical-align: middle;\n",
       "    }\n",
       "\n",
       "    .dataframe tbody tr th {\n",
       "        vertical-align: top;\n",
       "    }\n",
       "\n",
       "    .dataframe thead th {\n",
       "        text-align: right;\n",
       "    }\n",
       "</style>\n",
       "<table border=\"1\" class=\"dataframe\">\n",
       "  <thead>\n",
       "    <tr style=\"text-align: right;\">\n",
       "      <th></th>\n",
       "      <th>gxSeed</th>\n",
       "      <th>gySeed</th>\n",
       "      <th>chi2N</th>\n",
       "      <th>fQMeanSeed1</th>\n",
       "      <th>fQMedianSeed1</th>\n",
       "      <th>gzSeed</th>\n",
       "      <th>rSeed</th>\n",
       "      <th>eventID</th>\n",
       "      <th>qSeed</th>\n",
       "      <th>sector</th>\n",
       "      <th>phiSeed</th>\n",
       "      <th>seed1Tot</th>\n",
       "      <th>fQSeed1Ratio</th>\n",
       "      <th>fQRatio</th>\n",
       "    </tr>\n",
       "  </thead>\n",
       "  <tbody>\n",
       "    <tr>\n",
       "      <th>0</th>\n",
       "      <td>1</td>\n",
       "      <td>16</td>\n",
       "      <td>5</td>\n",
       "      <td>3</td>\n",
       "      <td>10</td>\n",
       "      <td>14</td>\n",
       "      <td>19</td>\n",
       "      <td>0</td>\n",
       "      <td>6</td>\n",
       "      <td>19</td>\n",
       "      <td>18</td>\n",
       "      <td>9</td>\n",
       "      <td>0.300000</td>\n",
       "      <td>0.6</td>\n",
       "    </tr>\n",
       "    <tr>\n",
       "      <th>1</th>\n",
       "      <td>18</td>\n",
       "      <td>2</td>\n",
       "      <td>8</td>\n",
       "      <td>13</td>\n",
       "      <td>1</td>\n",
       "      <td>12</td>\n",
       "      <td>10</td>\n",
       "      <td>1</td>\n",
       "      <td>10</td>\n",
       "      <td>17</td>\n",
       "      <td>1</td>\n",
       "      <td>18</td>\n",
       "      <td>13.000000</td>\n",
       "      <td>10.0</td>\n",
       "    </tr>\n",
       "    <tr>\n",
       "      <th>2</th>\n",
       "      <td>0</td>\n",
       "      <td>9</td>\n",
       "      <td>9</td>\n",
       "      <td>10</td>\n",
       "      <td>17</td>\n",
       "      <td>19</td>\n",
       "      <td>15</td>\n",
       "      <td>2</td>\n",
       "      <td>17</td>\n",
       "      <td>13</td>\n",
       "      <td>12</td>\n",
       "      <td>17</td>\n",
       "      <td>0.588235</td>\n",
       "      <td>1.0</td>\n",
       "    </tr>\n",
       "    <tr>\n",
       "      <th>3</th>\n",
       "      <td>16</td>\n",
       "      <td>7</td>\n",
       "      <td>2</td>\n",
       "      <td>7</td>\n",
       "      <td>18</td>\n",
       "      <td>18</td>\n",
       "      <td>6</td>\n",
       "      <td>3</td>\n",
       "      <td>18</td>\n",
       "      <td>14</td>\n",
       "      <td>1</td>\n",
       "      <td>13</td>\n",
       "      <td>0.388889</td>\n",
       "      <td>1.0</td>\n",
       "    </tr>\n",
       "    <tr>\n",
       "      <th>4</th>\n",
       "      <td>12</td>\n",
       "      <td>18</td>\n",
       "      <td>19</td>\n",
       "      <td>7</td>\n",
       "      <td>0</td>\n",
       "      <td>7</td>\n",
       "      <td>16</td>\n",
       "      <td>4</td>\n",
       "      <td>5</td>\n",
       "      <td>10</td>\n",
       "      <td>15</td>\n",
       "      <td>6</td>\n",
       "      <td>inf</td>\n",
       "      <td>inf</td>\n",
       "    </tr>\n",
       "  </tbody>\n",
       "</table>\n",
       "</div>"
      ],
      "text/plain": [
       "   gxSeed  gySeed  chi2N  fQMeanSeed1  fQMedianSeed1  gzSeed  rSeed  eventID  \\\n",
       "0       1      16      5            3             10      14     19        0   \n",
       "1      18       2      8           13              1      12     10        1   \n",
       "2       0       9      9           10             17      19     15        2   \n",
       "3      16       7      2            7             18      18      6        3   \n",
       "4      12      18     19            7              0       7     16        4   \n",
       "\n",
       "   qSeed  sector  phiSeed  seed1Tot  fQSeed1Ratio  fQRatio  \n",
       "0      6      19       18         9      0.300000      0.6  \n",
       "1     10      17        1        18     13.000000     10.0  \n",
       "2     17      13       12        17      0.588235      1.0  \n",
       "3     18      14        1        13      0.388889      1.0  \n",
       "4      5      10       15         6           inf      inf  "
      ]
     },
     "execution_count": 8,
     "metadata": {},
     "output_type": "execute_result"
    }
   ],
   "source": [
    "print(dfTrack.shape)\n",
    "dfTrack.head()"
   ]
  },
  {
   "cell_type": "markdown",
   "metadata": {},
   "source": [
    "## Event display\n",
    "* r phi\n",
    "* r z\n",
    "* histograms\n",
    "12 bits data compression (see arrayCompressionRelativeDisplay) for position 7 bits for QA variables"
   ]
  },
  {
   "cell_type": "code",
   "execution_count": 9,
   "metadata": {},
   "outputs": [],
   "source": [
    "widgetParamsD=[\n",
    "    ['range', [\"sector\"]],\n",
    "    ['range', ['rSeed']],\n",
    "    ['range', ['phiSeed']],\n",
    "    #\n",
    "    [\"range\", [\"gxSeed\"]],\n",
    "    [\"range\", [\"gySeed\"]],\n",
    "    ['range', ['gzSeed']],\n",
    "    #\n",
    "    ['range', ['chi2N']],\n",
    "    ['range', ['fQSeed1Ratio']],\n",
    "    ['range', ['fQRatio']],\n",
    "    #\n",
    "    ['range', ['fQMeanSeed1']],\n",
    "    ['range', ['fQMedianSeed1']],\n",
    "    ['range', ['qSeed']],\n",
    "    #\n",
    "    ['range', ['seed1Tot']],\n",
    "    ['range', ['eventID']],\n",
    "]\n",
    "widgetLayoutDescD=[ \n",
    "    [0,1, 2],     # cylindrical selection\n",
    "    [3,4,5],      # cartezina selection\n",
    "    [6,7,8],      # qratio selection \n",
    "    [9,10,11],    # q  selection\n",
    "    [12,13],       # event and Q tot selection\n",
    "    {'sizing_mode':'scale_width'} \n",
    "]"
   ]
  },
  {
   "cell_type": "code",
   "execution_count": 24,
   "metadata": {
    "scrolled": false
   },
   "outputs": [
    {
     "name": "stderr",
     "output_type": "stream",
     "text": [
      "/home/stephan/alice/sw/ubuntu1804_x86-64/Python-modules/1.0-3/share/python-modules/lib/python/site-packages/bokeh/models/plots.py:766: UserWarning:\n",
      "\n",
      "\n",
      "You are attempting to set `plot.legend.click_policy` on a plot that has zero legends added, this will have no effect.\n",
      "\n",
      "Before legend properties can be set, you must add a Legend explicitly, or call a glyph method with a legend parameter set.\n",
      "\n",
      "\n",
      "/home/stephan/alice/sw/ubuntu1804_x86-64/Python-modules/1.0-3/share/python-modules/lib/python/site-packages/bokeh/models/plots.py:766: UserWarning:\n",
      "\n",
      "\n",
      "You are attempting to set `plot.legend.visible` on a plot that has zero legends added, this will have no effect.\n",
      "\n",
      "Before legend properties can be set, you must add a Legend explicitly, or call a glyph method with a legend parameter set.\n",
      "\n",
      "\n"
     ]
    }
   ],
   "source": [
    "defaultCutTrack=\"entries>0\"\n",
    "output_file(\"seed1DisplayRZPhi.html\")\n",
    "histoArray = [\n",
    "    {\"name\": \"his_chi2N\", \"variables\": [\"chi2N\"],\"nbins\":50},\n",
    "    {\"name\": \"his_fQMeanSeed1\", \"variables\": [\"fQMeanSeed1\"],\"nbins\":50},\n",
    "    {\"name\": \"his_fQMedianSeed1\", \"variables\": [\"fQMedianSeed1\"],\"nbins\":50},\n",
    "    {\"name\": \"his_fQSeed1Ratio\", \"variables\": [\"fQSeed1Ratio\"],\"nbins\":50},\n",
    "]\n",
    "\n",
    "#dfQA=dfQA.sample(100000)\n",
    "figureArray = [\n",
    "    [['rSeed'], [\"phiSeed\"],  {\"colorZvar\":\"qSeed\"}],\n",
    "    [['rSeed'], [\"gzSeed\"],  {\"colorZvar\": \"qSeed\"}],\n",
    "    [['chi2N'],[\"his_chi2N\"]],\n",
    "    [['fQSeed1Ratio'],[\"his_fQSeed1Ratio\"]],\n",
    "    [['fQMeanSeed1'],[\"his_fQMeanSeed1\"]],\n",
    "    [['fQMedianSeed1'],[\"his_fQMedianSeed1\"]],\n",
    "    [\"table\", {\"rowwise\": True}],\n",
    "    {\"size\": 5}\n",
    "]    \n",
    "widgetParams=[\n",
    "    ['range', [\"sector\"]],\n",
    "    ['range', ['rSeed']],\n",
    "    ['range', ['phiSeed']],\n",
    "    ['range', ['gzSeed']],\n",
    "    #\n",
    "    ['range', ['chi2N']],\n",
    "    ['range', ['fQSeed1Ratio']],\n",
    "    ['range', ['fQRatio']],\n",
    "    ['range', ['fQMeanSeed1']],\n",
    "    ['range', ['fQMedianSeed1']],\n",
    "    #\n",
    "    ['range', ['qSeed']],\n",
    "    ['range', ['seed1Tot']],\n",
    "    ['range', ['eventID']],\n",
    "]\n",
    "tooltips = [(\"qSeed\", \"@qSeed\"), (\"fQMeanSeed1\", \"@fQMeanSeed1\"), (\"fQMedianSeed1\", \"@fQMedianSeed1\"), (\"eventID\",\"@eventID\"), (\"sector\",\"@sector\"), (\"rSeed\",\"@rSeed\")]\n",
    "widgetLayoutDesc=[ \n",
    "    [0,1, 2,3],\n",
    "    [4, 5,6,7,8],\n",
    "    [9,10,11], \n",
    "    {'sizing_mode':'scale_width'} \n",
    "]\n",
    "figureLayoutDesc=[\n",
    "    [0,1,{'plot_height':450}],\n",
    "    [2,3,4,5,{'plot_height':200}],\n",
    "    [6,{'plot_height':25}],\n",
    "    {'plot_height':240,'sizing_mode':'scale_width',\"legend_visible\":False}\n",
    "]\n",
    "dfTrack = dfTrack.fillna(1)\n",
    "fig=bokehDrawSA.fromArray(dfTrack.query(\"eventID>=0\"), \"chi2N>0&rSeed>0\", figureArray, widgetParamsD,layout=figureLayoutDesc,tooltips=tooltips,sizing_mode='scale_width', widgetLayout=widgetLayoutDescD,nPointRender=3000,rescaleColorMapper=True,arrayCompression=arrayCompressionRelative16,histogramArray=histoArray)"
   ]
  },
  {
   "cell_type": "code",
   "execution_count": 20,
   "metadata": {},
   "outputs": [
    {
     "data": {
      "text/plain": [
       "True"
      ]
     },
     "execution_count": 20,
     "metadata": {},
     "output_type": "execute_result"
    }
   ],
   "source": []
  },
  {
   "cell_type": "code",
   "execution_count": 26,
   "metadata": {},
   "outputs": [
    {
     "ename": "KeyError",
     "evalue": "0",
     "output_type": "error",
     "traceback": [
      "\u001b[0;31m---------------------------------------------------------------------------\u001b[0m",
      "\u001b[0;31mKeyError\u001b[0m                                  Traceback (most recent call last)",
      "\u001b[0;32m<ipython-input-26-b9395d0fe436>\u001b[0m in \u001b[0;36m<module>\u001b[0;34m\u001b[0m\n\u001b[1;32m     52\u001b[0m ]\n\u001b[1;32m     53\u001b[0m fig=bokehDrawSA.fromArray(dfTrack.query(\"eventID>=0\"), \"chi2N>0&rSeed>0\", figureArray, widgetParamsD,layout=figureLayoutDesc,tooltips=tooltips,sizing_mode='scale_width',\n\u001b[0;32m---> 54\u001b[0;31m                           widgetLayout=widgetLayoutDescD,nPointRender=6000,rescaleColorMapper=True,arrayCompression=arrayCompressionRelative16,histogramArray=histoArray)\n\u001b[0m",
      "\u001b[0;32m~/alice/sw/ubuntu1804_x86-64/Python-modules/1.0-3/share/python-modules/lib/python/site-packages/RootInteractive/InteractiveDrawing/bokeh/bokehDrawSA.py\u001b[0m in \u001b[0;36mfromArray\u001b[0;34m(cls, dataFrame, query, figureArray, widgetsDescription, **kwargs)\u001b[0m\n\u001b[1;32m    137\u001b[0m         \u001b[0mself\u001b[0m \u001b[0;34m=\u001b[0m \u001b[0mcls\u001b[0m\u001b[0;34m(\u001b[0m\u001b[0mdataFrame\u001b[0m\u001b[0;34m,\u001b[0m \u001b[0mquery\u001b[0m\u001b[0;34m,\u001b[0m \u001b[0;34m\"\"\u001b[0m\u001b[0;34m,\u001b[0m \u001b[0;34m\"\"\u001b[0m\u001b[0;34m,\u001b[0m \u001b[0;34m\"\"\u001b[0m\u001b[0;34m,\u001b[0m \u001b[0;34m\"\"\u001b[0m\u001b[0;34m,\u001b[0m \u001b[0;32mNone\u001b[0m\u001b[0;34m,\u001b[0m \u001b[0mvariables\u001b[0m\u001b[0;34m=\u001b[0m\u001b[0mvarList\u001b[0m\u001b[0;34m,\u001b[0m \u001b[0;34m**\u001b[0m\u001b[0mkwargs\u001b[0m\u001b[0;34m)\u001b[0m\u001b[0;34m\u001b[0m\u001b[0;34m\u001b[0m\u001b[0m\n\u001b[1;32m    138\u001b[0m         self.figure, self.cdsSel, self.plotArray, dataFrameOrig, self.cmapDict, self.cdsOrig, self.histoList = bokehDrawArray(self.dataSource, query,\n\u001b[0;32m--> 139\u001b[0;31m                                                                                                 figureArray, **kwargs)\n\u001b[0m\u001b[1;32m    140\u001b[0m         \u001b[0;31m# self.cdsOrig=ColumnDataSource(dataFrameOrig)\u001b[0m\u001b[0;34m\u001b[0m\u001b[0;34m\u001b[0m\u001b[0;34m\u001b[0m\u001b[0m\n\u001b[1;32m    141\u001b[0m         \u001b[0;31m#self.Widgets = self.initWidgets(widgetString)\u001b[0m\u001b[0;34m\u001b[0m\u001b[0;34m\u001b[0m\u001b[0;34m\u001b[0m\u001b[0m\n",
      "\u001b[0;32m~/alice/sw/ubuntu1804_x86-64/Python-modules/1.0-3/share/python-modules/lib/python/site-packages/RootInteractive/InteractiveDrawing/bokeh/bokehTools.py\u001b[0m in \u001b[0;36mbokehDrawArray\u001b[0;34m(dataFrame, query, figureArray, histogramArray, **kwargs)\u001b[0m\n\u001b[1;32m    811\u001b[0m                 \u001b[0moptionLocal\u001b[0m \u001b[0;34m=\u001b[0m \u001b[0moptions\u001b[0m\u001b[0;34m\u001b[0m\u001b[0;34m\u001b[0m\u001b[0m\n\u001b[1;32m    812\u001b[0m             \u001b[0;32mfor\u001b[0m \u001b[0mj\u001b[0m \u001b[0;32min\u001b[0m \u001b[0mrange\u001b[0m\u001b[0;34m(\u001b[0m\u001b[0;36m0\u001b[0m\u001b[0;34m,\u001b[0m \u001b[0mlength\u001b[0m\u001b[0;34m)\u001b[0m\u001b[0;34m:\u001b[0m\u001b[0;34m\u001b[0m\u001b[0;34m\u001b[0m\u001b[0m\n\u001b[0;32m--> 813\u001b[0;31m                 \u001b[0;32mif\u001b[0m \u001b[0mvariables\u001b[0m\u001b[0;34m[\u001b[0m\u001b[0;36m1\u001b[0m\u001b[0;34m]\u001b[0m\u001b[0;34m[\u001b[0m\u001b[0mj\u001b[0m \u001b[0;34m%\u001b[0m \u001b[0mlengthY\u001b[0m\u001b[0;34m]\u001b[0m \u001b[0;34m!=\u001b[0m \u001b[0;34m\"histo\"\u001b[0m \u001b[0;32mand\u001b[0m \u001b[0mvariables\u001b[0m\u001b[0;34m[\u001b[0m\u001b[0;36m1\u001b[0m\u001b[0;34m]\u001b[0m\u001b[0;34m[\u001b[0m\u001b[0mj\u001b[0m \u001b[0;34m%\u001b[0m \u001b[0mlengthY\u001b[0m\u001b[0;34m]\u001b[0m \u001b[0;32mnot\u001b[0m \u001b[0;32min\u001b[0m \u001b[0mhistogramDict\u001b[0m\u001b[0;34m:\u001b[0m\u001b[0;34m\u001b[0m\u001b[0;34m\u001b[0m\u001b[0m\n\u001b[0m\u001b[1;32m    814\u001b[0m                     \u001b[0;32mif\u001b[0m \u001b[0;32mnot\u001b[0m \u001b[0moptionLocal\u001b[0m\u001b[0;34m[\u001b[0m\u001b[0;34m\"histo2d\"\u001b[0m\u001b[0;34m]\u001b[0m\u001b[0;34m:\u001b[0m\u001b[0;34m\u001b[0m\u001b[0;34m\u001b[0m\u001b[0m\n\u001b[1;32m    815\u001b[0m                         \u001b[0moutput_cdsSel\u001b[0m \u001b[0;34m=\u001b[0m \u001b[0;32mTrue\u001b[0m\u001b[0;34m\u001b[0m\u001b[0;34m\u001b[0m\u001b[0m\n",
      "\u001b[0;31mKeyError\u001b[0m: 0"
     ]
    }
   ],
   "source": [
    "defaultCutTrack=\"entries>0\"\n",
    "output_file(\"seed1DisplayXYRZPhi.html\")\n",
    "histoArray = [\n",
    "    {\"name\": \"his_chi2N\", \"variables\": [\"chi2N\"],\"nbins\":50},\n",
    "    {\"name\": \"his_fQMeanSeed1\", \"variables\": [\"fQMeanSeed1\"],\"nbins\":50},\n",
    "    {\"name\": \"his_fQMedianSeed1\", \"variables\": [\"fQMedianSeed1\"],\"nbins\":50},\n",
    "    {\"name\": \"his_fQSeed1Ratio\", \"variables\": [\"fQSeed1Ratio\"],\"nbins\":50},\n",
    "]\n",
    "\n",
    "#dfQA=dfQA.sample(100000)\n",
    "figureArray = [\n",
    "    [['gxSeed'], [\"gySeed\"],  {\"colorZvar\":\"qSeed\"}],\n",
    "    [['rSeed'], [\"phiSeed\"],  {\"colorZvar\":\"qSeed\"}],\n",
    "    [['rSeed'], [\"gzSeed\"],  {\"colorZvar\": \"qSeed\"}],\n",
    "    [['chi2N'],[\"his_chi2N\"]],\n",
    "    [['fQSeed1Ratio'],[\"his_fQSeed1Ratio\"]],\n",
    "    [['fQMeanSeed1'],[\"his_fQMeanSeed1\"]],\n",
    "    [['fQMedianSeed1'],[\"his_fQMedianSeed1\"]],\n",
    "    [\"tableHisto\", {\"rowwise\": True}],\n",
    "    {\"size\": 5}\n",
    "]    \n",
    "widgetParams=[\n",
    "    ['range', [\"sector\"]],\n",
    "    ['range', ['rSeed']],\n",
    "    ['range', ['phiSeed']],\n",
    "    [\"range\", [\"gxSeed\"]],\n",
    "     [\"range\", [\"gySeed\"]],\n",
    "    ['range', ['gzSeed']],\n",
    "    #\n",
    "    ['range', ['chi2N']],\n",
    "    ['range', ['fQSeed1Ratio']],\n",
    "    ['range', ['fQRatio']],\n",
    "    ['range', ['fQMeanSeed1']],\n",
    "    ['range', ['fQMedianSeed1']],\n",
    "    #\n",
    "    ['range', ['qSeed']],\n",
    "    ['range', ['seed1Tot']],\n",
    "    ['range', ['eventID']],\n",
    "]\n",
    "tooltips = [(\"qSeed\", \"@qSeed\"), (\"fQMeanSeed1\", \"@fQMeanSeed1\"), (\"fQMedianSeed1\", \"@fQMedianSeed1\"), (\"eventID\",\"@eventID\"), (\"sector\",\"@sector\"), (\"rSeed\",\"@rSeed\")]\n",
    "widgetLayoutDesc=[ \n",
    "    [0,1, 2,3],\n",
    "    [4, 5,6,7,8],\n",
    "    [9,10,11], \n",
    "    {'sizing_mode':'scale_width'} \n",
    "]\n",
    "figureLayoutDesc=[\n",
    "    [0,1,2,{'plot_height':450}],\n",
    "    [3,4,5,6,{'plot_height':200}],\n",
    "    [7,{'plot_height':30}],\n",
    "    {'plot_height':240,'sizing_mode':'scale_width',\"legend_visible\":False}\n",
    "]\n",
    "fig=bokehDrawSA.fromArray(dfTrack.query(\"eventID>=0\"), \"chi2N>0&rSeed>0\", figureArray, widgetParamsD,layout=figureLayoutDesc,tooltips=tooltips,sizing_mode='scale_width',\n",
    "                          widgetLayout=widgetLayoutDescD,nPointRender=6000,rescaleColorMapper=True,arrayCompression=arrayCompressionRelative16,histogramArray=histoArray)"
   ]
  },
  {
   "cell_type": "code",
   "execution_count": null,
   "metadata": {},
   "outputs": [],
   "source": [
    "#Display "
   ]
  },
  {
   "cell_type": "code",
   "execution_count": null,
   "metadata": {},
   "outputs": [],
   "source": []
  },
  {
   "cell_type": "code",
   "execution_count": null,
   "metadata": {},
   "outputs": [],
   "source": []
  }
 ],
 "metadata": {
  "kernelspec": {
   "display_name": "Python 3",
   "language": "python",
   "name": "python3"
  },
  "language_info": {
   "codemirror_mode": {
    "name": "ipython",
    "version": 3
   },
   "file_extension": ".py",
   "mimetype": "text/x-python",
   "name": "python",
   "nbconvert_exporter": "python",
   "pygments_lexer": "ipython3",
   "version": "3.6.9"
  },
  "toc": {
   "base_numbering": 1,
   "nav_menu": {},
   "number_sections": false,
   "sideBar": false,
   "skip_h1_title": false,
   "title_cell": "Table of Contents",
   "title_sidebar": "Contents",
   "toc_cell": false,
   "toc_position": {},
   "toc_section_display": false,
   "toc_window_display": false
  }
 },
 "nbformat": 4,
 "nbformat_minor": 2
}
