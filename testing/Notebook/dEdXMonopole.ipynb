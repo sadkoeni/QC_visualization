{
 "cells": [
  {
   "cell_type": "code",
   "execution_count": 1,
   "metadata": {},
   "outputs": [],
   "source": [
    "//Material description\n",
    "int z = 10;\n",
    "int a = 20;\n",
    "double I = 10*1e-6*z;   //MeV"
   ]
  },
  {
   "cell_type": "code",
   "execution_count": 2,
   "metadata": {},
   "outputs": [],
   "source": [
    "//Bethe-Bloch for single charge\n",
    "TF1 *bb1  = new TF1(\"bb1\",\"0.001*[0]*0.307* TMath::Sq([4])/([3]*TMath::Sq(x)) * log( 2*0.511*TMath::Sq(x)/((1-TMath::Sq(x))*  [5])  - TMath::Sq(x))\",0.01,.999999);\n",
    "bb1->SetTitle(TString::Format(\"Z = %1.0d, A = %1.0d, I = %1.3f eV \",z,a,I*1e6));\n",
    "\n",
    "int zpro1=1;   //projectile charge in e\n",
    "\n",
    "bb1->SetParameter(0,z); //Z\n",
    "bb1->SetParameter(3,a); //A\n",
    "bb1->SetParameter(4,zpro1); //z\n",
    "bb1->SetParameter(5,I); //g\n",
    "bb1->GetXaxis()->SetTitle(\"#beta\");\n",
    "bb1->GetYaxis()->SetTitle(\"-dE/dx (MeV cm^{2}/g)\");\n",
    "bb1->SetLineColor(kGreen+2);\n",
    "bb1->SetLineWidth(4);"
   ]
  },
  {
   "cell_type": "code",
   "execution_count": 3,
   "metadata": {},
   "outputs": [],
   "source": [
    "TF1 *mp  = new TF1(\"mp\",\"0.001*[0]*0.307* TMath::Sq([4])/[3] * log( 2*0.511*TMath::Sq(x)/((1-TMath::Sq(x))*  [5]) + 0.5* 0.406 - 0.5 - 0.248 )\",0.01,.999999);\n",
    "\n",
    "int mch=1;  //monopole charge in units of g_D\n",
    "\n",
    "mp->SetParameter(0,z); //Z\n",
    "mp->SetParameter(3,a); //A\n",
    "mp->SetParameter(4,mch*68.5); //g\n",
    "mp->SetParameter(5,I); //g\n",
    "mp->SetLineColor(kBlue);\n",
    "mp->SetLineWidth(4);"
   ]
  },
  {
   "cell_type": "code",
   "execution_count": 4,
   "metadata": {},
   "outputs": [
    {
     "data": {
      "image/png": "[encoded data removed]",
      "text/plain": [
       "<IPython.core.display.Image object>"
      ]
     },
     "metadata": {},
     "output_type": "display_data"
    },
    {
     "name": "stderr",
     "output_type": "stream",
     "text": [
      "Info in <TCanvas::MakeDefCanvas>:  created default TCanvas with name c1\n"
     ]
    }
   ],
   "source": [
    "bb1->SetMinimum(0.001);\n",
    "bb1->SetMaximum(50);\n",
    "\n",
    "bb1->Draw(\"\");\n",
    "mp->Draw(\"same\");\n",
    "\n",
    "gPad->Draw();\n",
    "gPad->SetLogy();"
   ]
  },
  {
   "cell_type": "code",
   "execution_count": null,
   "metadata": {},
   "outputs": [],
   "source": []
  }
 ],
 "metadata": {
  "kernelspec": {
   "display_name": "ROOT C++",
   "language": "c++",
   "name": "root"
  },
  "language_info": {
   "codemirror_mode": "text/x-c++src",
   "file_extension": ".C",
   "mimetype": " text/x-c++src",
   "name": "c++"
  }
 },
 "nbformat": 4,
 "nbformat_minor": 2
}
