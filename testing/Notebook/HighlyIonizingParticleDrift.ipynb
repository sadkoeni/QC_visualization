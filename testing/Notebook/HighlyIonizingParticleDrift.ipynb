{
 "cells": [
  {
   "cell_type": "code",
   "execution_count": 1,
   "metadata": {},
   "outputs": [],
   "source": [
    "Double_t dEdx, Q;\n",
    "const  Double_t epsilon0=8.854187817e-12;  /// C⋅V−1⋅m−1\n",
    "const  Double_t coulomb= 6.242e18;         /// noumber of electrons per coulomb"
   ]
  },
  {
   "cell_type": "code",
   "execution_count": 2,
   "metadata": {},
   "outputs": [
    {
     "name": "stdout",
     "output_type": "stream",
     "text": [
      "Line charge density\t0.0724  V.cm\n"
     ]
    }
   ],
   "source": [
    "dEdXrat= 2000;  //dEdX ratio of monopole (g=1, beta = 0.9) to MIP - see dEdXMono notebook\n",
    "nEl=20.; //20.;   /// number of electrons/(MIP*cm), TPC-TRD p 151\n",
    "dNdx=nEl*dEdXrat;   /// number of electrons per M\n",
    "Q=dNdx/coulomb;     /// charge per M\n",
    "lambda=100*Q/epsilon0;\n",
    "printf(\"Line charge density\\t%4.4f  V.cm\\n\",lambda);"
   ]
  },
  {
   "cell_type": "markdown",
   "metadata": {},
   "source": [
    "### Electron cloud radius cumulant\n",
    "$r_{i}=\\sqrt{\\frac{f_{i} \\times Q \\times L }{pi \\times E_{z}} +r^2_{0i}}$\n",
    "- Q - line charge density (V.cm)\n",
    "- L - drift length (cm)\n",
    "- $f_{i}$, $r_{i}$ - cumulant fraction/radius\n",
    "- $r_{0i}$  initial cumulant"
   ]
  },
  {
   "cell_type": "code",
   "execution_count": 3,
   "metadata": {},
   "outputs": [
    {
     "data": {
      "image/png": "[encoded data removed]",
      "text/plain": [
       "<IPython.core.display.Image object>"
      ]
     },
     "metadata": {},
     "output_type": "display_data"
    },
    {
     "name": "stderr",
     "output_type": "stream",
     "text": [
      "Info in <TCanvas::MakeDefCanvas>:  created default TCanvas with name c1\n"
     ]
    }
   ],
   "source": [
    "felectronRZ=new TF1 (\"electronRZ\",\"sqrt([0]*[1]*x/(pi*400)+0)\",0,250);\n",
    "felectronRZ->SetParameters(1,lambda);\n",
    "felectronRZ->Draw();\n",
    "gPad->Draw();"
   ]
  },
  {
   "cell_type": "code",
   "execution_count": null,
   "metadata": {},
   "outputs": [],
   "source": []
  },
  {
   "cell_type": "code",
   "execution_count": null,
   "metadata": {},
   "outputs": [],
   "source": []
  }
 ],
 "metadata": {
  "kernelspec": {
   "display_name": "ROOT C++",
   "language": "c++",
   "name": "root"
  },
  "language_info": {
   "codemirror_mode": "text/x-c++src",
   "file_extension": ".C",
   "mimetype": " text/x-c++src",
   "name": "c++"
  }
 },
 "nbformat": 4,
 "nbformat_minor": 2
}
